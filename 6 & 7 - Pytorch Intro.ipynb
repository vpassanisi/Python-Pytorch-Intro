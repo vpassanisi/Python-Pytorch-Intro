{
 "cells": [
  {
   "cell_type": "code",
   "execution_count": 1,
   "metadata": {
    "tags": []
   },
   "outputs": [
    {
     "output_type": "stream",
     "name": "stdout",
     "text": "24946\n"
    }
   ],
   "source": [
    "import os\n",
    "import cv2\n",
    "import numpy as np\n",
    "from tqdm import tqdm\n",
    "\n",
    "REBUILD_DATA = False\n",
    "\n",
    "class DogsVSCats():\n",
    "    IMG_SIZE = 50\n",
    "    CATS = \"PetImages/Cat\"\n",
    "    DOGS = \"PetImages/Dog\"\n",
    "    TESTING = \"PetImages/Testing\"\n",
    "    LABELS = {CATS: 0, DOGS: 1}\n",
    "    training_data = []\n",
    "\n",
    "    catcount = 0\n",
    "    dogcount = 0\n",
    "\n",
    "    def make_training_data(self):\n",
    "        for label in self.LABELS:\n",
    "            print(label)\n",
    "            for f in tqdm(os.listdir(label)):\n",
    "                if \"jpg\" in f:\n",
    "                    try:\n",
    "                        path = os.path.join(label, f)\n",
    "                        img = cv2.imread(path, cv2.IMREAD_GRAYSCALE)\n",
    "                        img = cv2.resize(img, (self.IMG_SIZE, self.IMG_SIZE))\n",
    "                        self.training_data.append([np.array(img), np.eye(2)[self.LABELS[label]]])\n",
    "\n",
    "                        if label == self.CATS:\n",
    "                            self.catcount += 1\n",
    "                        elif label == self.DOGS:\n",
    "                            self.dogcount += 1\n",
    "\n",
    "                    except Exception as e:\n",
    "                        pass\n",
    "\n",
    "        np.random.shuffle(self.training_data)\n",
    "        np.save(\"training_data.npy\", self.training_data)\n",
    "        print('Cats:',dogsvcats.catcount)\n",
    "        print('Dogs:',dogsvcats.dogcount)\n",
    "\n",
    "if REBUILD_DATA:\n",
    "    dogsvcats = DogsVSCats()\n",
    "    dogsvcats.make_training_data()\n",
    "\n",
    "training_data = np.load('training_data.npy', allow_pickle=True)\n",
    "print(len(training_data))\n"
   ]
  },
  {
   "cell_type": "code",
   "execution_count": 6,
   "metadata": {
    "tags": []
   },
   "outputs": [
    {
     "output_type": "stream",
     "name": "stdout",
     "text": "torch.Size([128, 2, 2])\n"
    }
   ],
   "source": [
    "import torch\n",
    "import torch.nn as nn\n",
    "import torch.nn.functional as F\n",
    "\n",
    "class Net(nn.Module):\n",
    "    def __init__(self):\n",
    "        super().__init__()\n",
    "        self.conv1 = nn.Conv2d(1, 32, 5)\n",
    "        self.conv2 = nn.Conv2d(32, 64, 5)\n",
    "        self.conv3 = nn.Conv2d(64, 128, 5)\n",
    "\n",
    "        x = torch.randn(50, 50).view(-1, 1, 50, 50)\n",
    "        self._to_linear = None\n",
    "        self.convs(x)\n",
    "\n",
    "        self.fc1 = nn.Linear(self._to_linear, 512)\n",
    "        self.fc2 = nn.Linear(512, 2)\n",
    "\n",
    "    def convs(self, x):\n",
    "        x = F.max_pool2d(F.relu(self.conv1(x)), (2,2))\n",
    "        x = F.max_pool2d(F.relu(self.conv2(x)), (2,2))\n",
    "        x = F.max_pool2d(F.relu(self.conv3(x)), (2,2))\n",
    "\n",
    "        print(x[0].shape)\n",
    "        if self._to_linear is None:\n",
    "            self._to_linear = x[0].shape[0]*x[0].shape[1]*x[0].shape[2]\n",
    "        return x\n",
    "\n",
    "    def forward(self, x):\n",
    "        x = self.convs(x)\n",
    "        x = x.view(-1, self._to_linear)\n",
    "        x = F.relu(self.fc1(x))\n",
    "        x = self.fc2(x)\n",
    "        return F.softmax(x, dim = 1)\n",
    "\n",
    "net = Net()\n"
   ]
  },
  {
   "cell_type": "code",
   "execution_count": 7,
   "metadata": {
    "tags": []
   },
   "outputs": [
    {
     "output_type": "stream",
     "name": "stdout",
     "text": "2494\n"
    }
   ],
   "source": [
    "import torch.optim as optim\n",
    "\n",
    "optimizer = optim.Adam(net.parameters(), lr=0.001)\n",
    "loss_function = nn.MSELoss()\n",
    "\n",
    "X = torch.Tensor([i[0] for i in training_data]).view(-1, 50, 50)\n",
    "X = X/255.0\n",
    "y = torch.Tensor([i[1] for i in training_data])\n",
    "\n",
    "VAL_PCT = 0.1\n",
    "val_size = int(len(X)*VAL_PCT)\n",
    "print(val_size)"
   ]
  },
  {
   "cell_type": "code",
   "execution_count": 11,
   "metadata": {
    "tags": []
   },
   "outputs": [
    {
     "output_type": "stream",
     "name": "stdout",
     "text": "22452\n2494\n"
    }
   ],
   "source": [
    "train_X = X[:-val_size]\n",
    "train_y = y[:-val_size]\n",
    "\n",
    "test_X = X[-val_size:]\n",
    "test_y = y[-val_size:]\n",
    "\n",
    "print(len(train_X))\n",
    "print(len(test_X))"
   ]
  },
  {
   "cell_type": "code",
   "execution_count": 18,
   "metadata": {
    "tags": []
   },
   "outputs": [
    {
     "output_type": "stream",
     "name": "stderr",
     "text": "0%|          | 1/225 [00:00<00:38,  5.86it/s]torch.Size([128, 2, 2])\ntorch.Size([128, 2, 2])\n  1%|▏         | 3/225 [00:00<00:38,  5.77it/s]torch.Size([128, 2, 2])\ntorch.Size([128, 2, 2])\n  2%|▏         | 5/225 [00:00<00:38,  5.71it/s]torch.Size([128, 2, 2])\n  3%|▎         | 6/225 [00:01<00:38,  5.68it/s]\ntorch.Size([128, 2, 2])\n  4%|▎         | 8/225 [00:01<00:37,  5.74it/s]torch.Size([128, 2, 2])\ntorch.Size([128, 2, 2])\n  4%|▍         | 10/225 [00:01<00:37,  5.73it/s]torch.Size([128, 2, 2])\ntorch.Size([128, 2, 2])\n  5%|▌         | 12/225 [00:02<00:36,  5.80it/s]torch.Size([128, 2, 2])\ntorch.Size([128, 2, 2])\n  6%|▌         | 14/225 [00:02<00:37,  5.67it/s]torch.Size([128, 2, 2])\n  7%|▋         | 15/225 [00:02<00:36,  5.74it/s]\ntorch.Size([128, 2, 2])\n  8%|▊         | 17/225 [00:02<00:36,  5.74it/s]torch.Size([128, 2, 2])\ntorch.Size([128, 2, 2])\n  8%|▊         | 19/225 [00:03<00:35,  5.73it/s]torch.Size([128, 2, 2])\ntorch.Size([128, 2, 2])\n  9%|▉         | 21/225 [00:03<00:35,  5.80it/s]torch.Size([128, 2, 2])\ntorch.Size([128, 2, 2])\n 10%|█         | 23/225 [00:04<00:35,  5.73it/s]torch.Size([128, 2, 2])\ntorch.Size([128, 2, 2])\n 11%|█         | 25/225 [00:04<00:34,  5.80it/s]torch.Size([128, 2, 2])\ntorch.Size([128, 2, 2])\n 12%|█▏        | 27/225 [00:04<00:34,  5.77it/s]torch.Size([128, 2, 2])\ntorch.Size([128, 2, 2])\n 13%|█▎        | 29/225 [00:05<00:33,  5.80it/s]torch.Size([128, 2, 2])\ntorch.Size([128, 2, 2])\n 14%|█▍        | 31/225 [00:05<00:34,  5.70it/s]torch.Size([128, 2, 2])\ntorch.Size([128, 2, 2])\n 15%|█▍        | 33/225 [00:05<00:33,  5.74it/s]torch.Size([128, 2, 2])\ntorch.Size([128, 2, 2])\n 16%|█▌        | 35/225 [00:06<00:33,  5.71it/s]torch.Size([128, 2, 2])\n 16%|█▌        | 36/225 [00:06<00:33,  5.71it/s]\ntorch.Size([128, 2, 2])\n 17%|█▋        | 38/225 [00:06<00:33,  5.66it/s]torch.Size([128, 2, 2])\ntorch.Size([128, 2, 2])\n 18%|█▊        | 40/225 [00:06<00:32,  5.67it/s]torch.Size([128, 2, 2])\ntorch.Size([128, 2, 2])\n 19%|█▊        | 42/225 [00:07<00:32,  5.64it/s]torch.Size([128, 2, 2])\n 19%|█▉        | 43/225 [00:07<00:32,  5.64it/s]\ntorch.Size([128, 2, 2])\n 20%|██        | 45/225 [00:07<00:31,  5.66it/s]torch.Size([128, 2, 2])\n 20%|██        | 46/225 [00:08<00:31,  5.66it/s]\ntorch.Size([128, 2, 2])\n 21%|██▏       | 48/225 [00:08<00:31,  5.65it/s]torch.Size([128, 2, 2])\n 22%|██▏       | 49/225 [00:08<00:31,  5.63it/s]\ntorch.Size([128, 2, 2])\n 23%|██▎       | 51/225 [00:08<00:30,  5.62it/s]torch.Size([128, 2, 2])\ntorch.Size([128, 2, 2])\n 24%|██▎       | 53/225 [00:09<00:30,  5.61it/s]torch.Size([128, 2, 2])\n 24%|██▍       | 54/225 [00:09<00:30,  5.62it/s]\ntorch.Size([128, 2, 2])\n 25%|██▍       | 56/225 [00:09<00:29,  5.74it/s]torch.Size([128, 2, 2])\ntorch.Size([128, 2, 2])\n 26%|██▌       | 58/225 [00:10<00:29,  5.69it/s]torch.Size([128, 2, 2])\ntorch.Size([128, 2, 2])\n 27%|██▋       | 60/225 [00:10<00:28,  5.70it/s]torch.Size([128, 2, 2])\n 27%|██▋       | 61/225 [00:10<00:28,  5.70it/s]\ntorch.Size([128, 2, 2])\n 28%|██▊       | 63/225 [00:11<00:28,  5.71it/s]torch.Size([128, 2, 2])\ntorch.Size([128, 2, 2])\n 29%|██▉       | 65/225 [00:11<00:28,  5.69it/s]torch.Size([128, 2, 2])\ntorch.Size([128, 2, 2])\n 30%|██▉       | 67/225 [00:11<00:27,  5.76it/s]torch.Size([128, 2, 2])\ntorch.Size([128, 2, 2])\n 31%|███       | 69/225 [00:12<00:27,  5.77it/s]torch.Size([128, 2, 2])\ntorch.Size([128, 2, 2])\n 32%|███▏      | 71/225 [00:12<00:26,  5.76it/s]torch.Size([128, 2, 2])\ntorch.Size([128, 2, 2])\n 32%|███▏      | 73/225 [00:12<00:26,  5.84it/s]torch.Size([128, 2, 2])\ntorch.Size([128, 2, 2])\n 33%|███▎      | 75/225 [00:13<00:26,  5.76it/s]torch.Size([128, 2, 2])\ntorch.Size([128, 2, 2])\n 34%|███▍      | 77/225 [00:13<00:25,  5.75it/s]torch.Size([128, 2, 2])\ntorch.Size([128, 2, 2])\n 35%|███▌      | 79/225 [00:13<00:25,  5.68it/s]torch.Size([128, 2, 2])\ntorch.Size([128, 2, 2])\n 36%|███▌      | 81/225 [00:14<00:25,  5.69it/s]torch.Size([128, 2, 2])\ntorch.Size([128, 2, 2])\n 37%|███▋      | 83/225 [00:14<00:25,  5.67it/s]torch.Size([128, 2, 2])\ntorch.Size([128, 2, 2])\n 38%|███▊      | 85/225 [00:14<00:24,  5.68it/s]torch.Size([128, 2, 2])\ntorch.Size([128, 2, 2])\n 39%|███▊      | 87/225 [00:15<00:24,  5.73it/s]torch.Size([128, 2, 2])\n 39%|███▉      | 88/225 [00:15<00:24,  5.70it/s]\ntorch.Size([128, 2, 2])\n 40%|████      | 90/225 [00:15<00:23,  5.69it/s]torch.Size([128, 2, 2])\n 40%|████      | 91/225 [00:15<00:23,  5.68it/s]\ntorch.Size([128, 2, 2])\n 41%|████▏     | 93/225 [00:16<00:23,  5.69it/s]torch.Size([128, 2, 2])\ntorch.Size([128, 2, 2])\n 42%|████▏     | 95/225 [00:16<00:22,  5.67it/s]torch.Size([128, 2, 2])\n 43%|████▎     | 96/225 [00:16<00:22,  5.70it/s]\ntorch.Size([128, 2, 2])\n 44%|████▎     | 98/225 [00:17<00:22,  5.73it/s]torch.Size([128, 2, 2])\ntorch.Size([128, 2, 2])\n 44%|████▍     | 100/225 [00:17<00:21,  5.71it/s]torch.Size([128, 2, 2])\n 45%|████▍     | 101/225 [00:17<00:21,  5.69it/s]\ntorch.Size([128, 2, 2])\n 46%|████▌     | 103/225 [00:18<00:21,  5.76it/s]torch.Size([128, 2, 2])\ntorch.Size([128, 2, 2])\n 47%|████▋     | 105/225 [00:18<00:21,  5.65it/s]torch.Size([128, 2, 2])\n 47%|████▋     | 106/225 [00:18<00:23,  5.05it/s]torch.Size([128, 2, 2])\n 48%|████▊     | 107/225 [00:18<00:23,  4.93it/s]torch.Size([128, 2, 2])\n 48%|████▊     | 108/225 [00:19<00:23,  5.01it/s]torch.Size([128, 2, 2])\n 48%|████▊     | 109/225 [00:19<00:22,  5.09it/s]\n 49%|████▉     | 110/225 [00:19<00:22,  5.21it/s]\n 49%|████▉     | 111/225 [00:19<00:21,  5.25it/s]\ntorch.Size([128, 2, 2])\n 50%|█████     | 113/225 [00:19<00:20,  5.43it/s]torch.Size([128, 2, 2])\ntorch.Size([128, 2, 2])\n 51%|█████     | 115/225 [00:20<00:20,  5.47it/s]torch.Size([128, 2, 2])\n 52%|█████▏    | 116/225 [00:20<00:19,  5.47it/s]\ntorch.Size([128, 2, 2])\n 52%|█████▏    | 118/225 [00:20<00:19,  5.46it/s]torch.Size([128, 2, 2])\ntorch.Size([128, 2, 2])\n 53%|█████▎    | 120/225 [00:21<00:19,  5.48it/s]torch.Size([128, 2, 2])\n 54%|█████▍    | 121/225 [00:21<00:19,  5.47it/s]\n 54%|█████▍    | 122/225 [00:21<00:18,  5.51it/s]\ntorch.Size([128, 2, 2])\n 55%|█████▌    | 124/225 [00:21<00:18,  5.54it/s]torch.Size([128, 2, 2])\ntorch.Size([128, 2, 2])\n 56%|█████▌    | 126/225 [00:22<00:17,  5.59it/s]torch.Size([128, 2, 2])\n 56%|█████▋    | 127/225 [00:22<00:17,  5.45it/s]\n 57%|█████▋    | 128/225 [00:22<00:17,  5.44it/s]\n 57%|█████▋    | 129/225 [00:22<00:17,  5.47it/s]\ntorch.Size([128, 2, 2])\n 58%|█████▊    | 131/225 [00:23<00:17,  5.31it/s]torch.Size([128, 2, 2])\ntorch.Size([128, 2, 2])\n 59%|█████▉    | 133/225 [00:23<00:16,  5.48it/s]torch.Size([128, 2, 2])\ntorch.Size([128, 2, 2])\n 60%|██████    | 135/225 [00:23<00:16,  5.58it/s]torch.Size([128, 2, 2])\ntorch.Size([128, 2, 2])\n 61%|██████    | 137/225 [00:24<00:15,  5.61it/s]torch.Size([128, 2, 2])\ntorch.Size([128, 2, 2])\n 62%|██████▏   | 139/225 [00:24<00:15,  5.47it/s]torch.Size([128, 2, 2])\ntorch.Size([128, 2, 2])\n 63%|██████▎   | 141/225 [00:25<00:15,  5.41it/s]torch.Size([128, 2, 2])\n 63%|██████▎   | 142/225 [00:25<00:15,  5.45it/s]\n 64%|██████▎   | 143/225 [00:25<00:15,  5.28it/s]\n 64%|██████▍   | 144/225 [00:25<00:15,  5.29it/s]torch.Size([128, 2, 2])\n 64%|██████▍   | 145/225 [00:25<00:14,  5.34it/s]\ntorch.Size([128, 2, 2])\n 65%|██████▌   | 147/225 [00:26<00:14,  5.48it/s]torch.Size([128, 2, 2])\ntorch.Size([128, 2, 2])\n 66%|██████▌   | 149/225 [00:26<00:13,  5.49it/s]torch.Size([128, 2, 2])\n 67%|██████▋   | 150/225 [00:26<00:13,  5.50it/s]\ntorch.Size([128, 2, 2])\n 68%|██████▊   | 152/225 [00:27<00:13,  5.49it/s]torch.Size([128, 2, 2])\ntorch.Size([128, 2, 2])\n 68%|██████▊   | 154/225 [00:27<00:12,  5.57it/s]torch.Size([128, 2, 2])\ntorch.Size([128, 2, 2])\n 69%|██████▉   | 156/225 [00:27<00:12,  5.40it/s]torch.Size([128, 2, 2])\n 70%|██████▉   | 157/225 [00:28<00:12,  5.34it/s]\n 70%|███████   | 158/225 [00:28<00:12,  5.41it/s]\ntorch.Size([128, 2, 2])\n 71%|███████   | 160/225 [00:28<00:11,  5.54it/s]torch.Size([128, 2, 2])\n 72%|███████▏  | 161/225 [00:28<00:11,  5.44it/s]\ntorch.Size([128, 2, 2])\n 72%|███████▏  | 163/225 [00:29<00:11,  5.56it/s]torch.Size([128, 2, 2])\n 73%|███████▎  | 164/225 [00:29<00:10,  5.56it/s]\ntorch.Size([128, 2, 2])\n 74%|███████▍  | 166/225 [00:29<00:10,  5.63it/s]torch.Size([128, 2, 2])\n 74%|███████▍  | 167/225 [00:29<00:10,  5.58it/s]\ntorch.Size([128, 2, 2])\n 75%|███████▌  | 169/225 [00:30<00:10,  5.59it/s]torch.Size([128, 2, 2])\ntorch.Size([128, 2, 2])\n 76%|███████▌  | 171/225 [00:30<00:09,  5.50it/s]torch.Size([128, 2, 2])\n 76%|███████▋  | 172/225 [00:30<00:09,  5.48it/s]\n 77%|███████▋  | 173/225 [00:30<00:09,  5.49it/s]\ntorch.Size([128, 2, 2])\n 78%|███████▊  | 175/225 [00:31<00:09,  5.55it/s]torch.Size([128, 2, 2])\ntorch.Size([128, 2, 2])\n 79%|███████▊  | 177/225 [00:31<00:08,  5.52it/s]torch.Size([128, 2, 2])\n 79%|███████▉  | 178/225 [00:31<00:08,  5.53it/s]\ntorch.Size([128, 2, 2])\n 80%|████████  | 180/225 [00:32<00:07,  5.63it/s]torch.Size([128, 2, 2])\ntorch.Size([128, 2, 2])\n 81%|████████  | 182/225 [00:32<00:07,  5.68it/s]torch.Size([128, 2, 2])\ntorch.Size([128, 2, 2])\n 82%|████████▏ | 184/225 [00:32<00:07,  5.64it/s]torch.Size([128, 2, 2])\ntorch.Size([128, 2, 2])\n 83%|████████▎ | 186/225 [00:33<00:06,  5.60it/s]torch.Size([128, 2, 2])\ntorch.Size([128, 2, 2])\n 84%|████████▎ | 188/225 [00:33<00:06,  5.67it/s]torch.Size([128, 2, 2])\ntorch.Size([128, 2, 2])\n 84%|████████▍ | 190/225 [00:33<00:06,  5.28it/s]torch.Size([128, 2, 2])\n 85%|████████▍ | 191/225 [00:34<00:06,  5.31it/s]\n 85%|████████▌ | 192/225 [00:34<00:06,  5.27it/s]\n 86%|████████▌ | 193/225 [00:34<00:06,  5.24it/s]\n 86%|████████▌ | 194/225 [00:34<00:06,  5.04it/s]torch.Size([128, 2, 2])\n 87%|████████▋ | 195/225 [00:34<00:05,  5.11it/s]torch.Size([128, 2, 2])\ntorch.Size([128, 2, 2])\n 88%|████████▊ | 197/225 [00:35<00:05,  5.38it/s]torch.Size([128, 2, 2])\ntorch.Size([128, 2, 2])\n 88%|████████▊ | 199/225 [00:35<00:04,  5.46it/s]torch.Size([128, 2, 2])\n 89%|████████▉ | 200/225 [00:35<00:04,  5.51it/s]\ntorch.Size([128, 2, 2])\n 90%|████████▉ | 202/225 [00:36<00:04,  5.60it/s]torch.Size([128, 2, 2])\ntorch.Size([128, 2, 2])\n 91%|█████████ | 204/225 [00:36<00:03,  5.71it/s]torch.Size([128, 2, 2])\ntorch.Size([128, 2, 2])\n 92%|█████████▏| 206/225 [00:36<00:03,  5.70it/s]torch.Size([128, 2, 2])\ntorch.Size([128, 2, 2])\n 92%|█████████▏| 207/225 [00:37<00:03,  5.60it/s]torch.Size([128, 2, 2])\n 93%|█████████▎| 209/225 [00:37<00:02,  5.69it/s]torch.Size([128, 2, 2])\ntorch.Size([128, 2, 2])\n 94%|█████████▍| 211/225 [00:37<00:02,  5.67it/s]torch.Size([128, 2, 2])\ntorch.Size([128, 2, 2])\n 95%|█████████▍| 213/225 [00:38<00:02,  5.64it/s]torch.Size([128, 2, 2])\n 95%|█████████▌| 214/225 [00:38<00:01,  5.67it/s]\ntorch.Size([128, 2, 2])\n 96%|█████████▌| 216/225 [00:38<00:01,  5.69it/s]torch.Size([128, 2, 2])\ntorch.Size([128, 2, 2])\n 97%|█████████▋| 218/225 [00:38<00:01,  5.68it/s]torch.Size([128, 2, 2])\ntorch.Size([128, 2, 2])\n 98%|█████████▊| 220/225 [00:39<00:00,  5.74it/s]torch.Size([128, 2, 2])\ntorch.Size([128, 2, 2])\n 99%|█████████▊| 222/225 [00:39<00:00,  5.67it/s]torch.Size([128, 2, 2])\n 99%|█████████▉| 223/225 [00:39<00:00,  5.59it/s]\n100%|█████████▉| 224/225 [00:40<00:00,  5.57it/s]\ntorch.Size([128, 2, 2])\n100%|██████████| 225/225 [00:40<00:00,  5.61it/s]tensor(0.2087, grad_fn=<MseLossBackward>)\n\n"
    }
   ],
   "source": [
    "BATCH_SIZE = 100\n",
    "EPOCHS = 1\n",
    "\n",
    "for epoch in range(EPOCHS):\n",
    "    for i in tqdm(range(0, len(train_X), BATCH_SIZE)):\n",
    "        \n",
    "        batch_X = train_X[i:i+BATCH_SIZE].view(-1,1,50,50)\n",
    "        batch_y = train_y[i:i+BATCH_SIZE]\n",
    "\n",
    "        net.zero_grad()\n",
    "        outputs = net(batch_X)\n",
    "        loss = loss_function(outputs, batch_y)\n",
    "        loss.backward()\n",
    "        optimizer.step()\n",
    "\n",
    "print(loss)"
   ]
  },
  {
   "cell_type": "code",
   "execution_count": 16,
   "metadata": {
    "tags": [
     "outputPrepend"
    ]
   },
   "outputs": [
    {
     "output_type": "stream",
     "name": "stderr",
     "text": " 2])\ntorch.Size([128, 2, 2])\ntorch.Size([128, 2, 2])\ntorch.Size([128, 2, 2])\ntorch.Size([128, 2, 2])\ntorch.Size([128, 2, 2])\ntorch.Size([128, 2, 2])\ntorch.Size([128, 2, 2])\ntorch.Size([128, 2, 2])\ntorch.Size([128, 2, 2])\ntorch.Size([128, 2, 2])\ntorch.Size([128, 2, 2])\ntorch.Size([128, 2, 2])\ntorch.Size([128, 2, 2])\ntorch.Size([128, 2, 2])\ntorch.Size([128, 2, 2])\ntorch.Size([128, 2, 2])\ntorch.Size([128, 2, 2])\ntorch.Size([128, 2, 2])\ntorch.Size([128, 2, 2])\ntorch.Size([128, 2, 2])\ntorch.Size([128, 2, 2])\ntorch.Size([128, 2, 2])\ntorch.Size([128, 2, 2])\ntorch.Size([128, 2, 2])\ntorch.Size([128, 2, 2])\ntorch.Size([128, 2, 2])\ntorch.Size([128, 2, 2])\ntorch.Size([128, 2, 2])\ntorch.Size([128, 2, 2])\ntorch.Size([128, 2, 2])\ntorch.Size([128, 2, 2])\ntorch.Size([128, 2, 2])\ntorch.Size([128, 2, 2])\ntorch.Size([128, 2, 2])\ntorch.Size([128, 2, 2])\ntorch.Size([128, 2, 2])\ntorch.Size([128, 2, 2])\n 73%|███████▎  | 1830/2494 [00:02<00:00, 677.18it/s]\ntorch.Size([128, 2, 2])\ntorch.Size([128, 2, 2])\ntorch.Size([128, 2, 2])\ntorch.Size([128, 2, 2])\ntorch.Size([128, 2, 2])\ntorch.Size([128, 2, 2])\ntorch.Size([128, 2, 2])\ntorch.Size([128, 2, 2])\ntorch.Size([128, 2, 2])\ntorch.Size([128, 2, 2])\ntorch.Size([128, 2, 2])\ntorch.Size([128, 2, 2])\ntorch.Size([128, 2, 2])\ntorch.Size([128, 2, 2])\ntorch.Size([128, 2, 2])\ntorch.Size([128, 2, 2])\ntorch.Size([128, 2, 2])\ntorch.Size([128, 2, 2])\ntorch.Size([128, 2, 2])\ntorch.Size([128, 2, 2])\ntorch.Size([128, 2, 2])\ntorch.Size([128, 2, 2])\ntorch.Size([128, 2, 2])\ntorch.Size([128, 2, 2])\ntorch.Size([128, 2, 2])\ntorch.Size([128, 2, 2])\ntorch.Size([128, 2, 2])\ntorch.Size([128, 2, 2])\ntorch.Size([128, 2, 2])\ntorch.Size([128, 2, 2])\ntorch.Size([128, 2, 2])\ntorch.Size([128, 2, 2])\ntorch.Size([128, 2, 2])\ntorch.Size([128, 2, 2])\ntorch.Size([128, 2, 2])\ntorch.Size([128, 2, 2])\ntorch.Size([128, 2, 2])\ntorch.Size([128, 2, 2])\ntorch.Size([128, 2, 2])\ntorch.Size([128, 2, 2])\ntorch.Size([128, 2, 2])\ntorch.Size([128, 2, 2])\ntorch.Size([128, 2, 2])\ntorch.Size([128, 2, 2])\ntorch.Size([128, 2, 2])\ntorch.Size([128, 2, 2])\ntorch.Size([128, 2, 2])\ntorch.Size([128, 2, 2])\ntorch.Size([128, 2, 2])\ntorch.Size([128, 2, 2])\ntorch.Size([128, 2, 2])\ntorch.Size([128, 2, 2])\ntorch.Size([128, 2, 2])\ntorch.Size([128, 2, 2])\ntorch.Size([128, 2, 2])\ntorch.Size([128, 2, 2])\ntorch.Size([128, 2, 2])\ntorch.Size([128, 2, 2])\ntorch.Size([128, 2, 2])\ntorch.Size([128, 2, 2])\ntorch.Size([128, 2, 2])\ntorch.Size([128, 2, 2])\ntorch.Size([128, 2, 2])\ntorch.Size([128, 2, 2])\ntorch.Size([128, 2, 2])\ntorch.Size([128, 2, 2])\ntorch.Size([128, 2, 2])\ntorch.Size([128, 2, 2])\ntorch.Size([128, 2, 2])\ntorch.Size([128, 2, 2])\ntorch.Size([128, 2, 2])\ntorch.Size([128, 2, 2])\ntorch.Size([128, 2, 2])\ntorch.Size([128, 2, 2])\ntorch.Size([128, 2, 2])\ntorch.Size([128, 2, 2])\ntorch.Size([128, 2, 2])\ntorch.Size([128, 2, 2])\ntorch.Size([128, 2, 2])\ntorch.Size([128, 2, 2])\ntorch.Size([128, 2, 2])\ntorch.Size([128, 2, 2])\ntorch.Size([128, 2, 2])\ntorch.Size([128, 2, 2])\ntorch.Size([128, 2, 2])\ntorch.Size([128, 2, 2])\ntorch.Size([128, 2, 2])\ntorch.Size([128, 2, 2])\ntorch.Size([128, 2, 2])\ntorch.Size([128, 2, 2])\ntorch.Size([128, 2, 2])\ntorch.Size([128, 2, 2])\ntorch.Size([128, 2, 2])\ntorch.Size([128, 2, 2])\ntorch.Size([128, 2, 2])\ntorch.Size([128, 2, 2])\ntorch.Size([128, 2, 2])\ntorch.Size([128, 2, 2])\ntorch.Size([128, 2, 2])\ntorch.Size([128, 2, 2])\ntorch.Size([128, 2, 2])\ntorch.Size([128, 2, 2])\ntorch.Size([128, 2, 2])\ntorch.Size([128, 2, 2])\ntorch.Size([128, 2, 2])\ntorch.Size([128, 2, 2])\ntorch.Size([128, 2, 2])\ntorch.Size([128, 2, 2])\ntorch.Size([128, 2, 2])\ntorch.Size([128, 2, 2])\ntorch.Size([128, 2, 2])\ntorch.Size([128, 2, 2])\ntorch.Size([128, 2, 2])\ntorch.Size([128, 2, 2])\ntorch.Size([128, 2, 2])\ntorch.Size([128, 2, 2])\ntorch.Size([128, 2, 2])\ntorch.Size([128, 2, 2])\ntorch.Size([128, 2, 2])\ntorch.Size([128, 2, 2])\ntorch.Size([128, 2, 2])\ntorch.Size([128, 2, 2])\ntorch.Size([128, 2, 2])\ntorch.Size([128, 2, 2])\ntorch.Size([128, 2, 2])\ntorch.Size([128, 2, 2])\n 76%|███████▌  | 1900/2494 [00:02<00:00, 680.42it/s]\ntorch.Size([128, 2, 2])\ntorch.Size([128, 2, 2])\ntorch.Size([128, 2, 2])\ntorch.Size([128, 2, 2])\ntorch.Size([128, 2, 2])\ntorch.Size([128, 2, 2])\ntorch.Size([128, 2, 2])\ntorch.Size([128, 2, 2])\ntorch.Size([128, 2, 2])\ntorch.Size([128, 2, 2])\ntorch.Size([128, 2, 2])\ntorch.Size([128, 2, 2])\ntorch.Size([128, 2, 2])\ntorch.Size([128, 2, 2])\ntorch.Size([128, 2, 2])\ntorch.Size([128, 2, 2])\ntorch.Size([128, 2, 2])\ntorch.Size([128, 2, 2])\ntorch.Size([128, 2, 2])\ntorch.Size([128, 2, 2])\ntorch.Size([128, 2, 2])\ntorch.Size([128, 2, 2])\ntorch.Size([128, 2, 2])\ntorch.Size([128, 2, 2])\ntorch.Size([128, 2, 2])\ntorch.Size([128, 2, 2])\ntorch.Size([128, 2, 2])\ntorch.Size([128, 2, 2])\ntorch.Size([128, 2, 2])\ntorch.Size([128, 2, 2])\ntorch.Size([128, 2, 2])\ntorch.Size([128, 2, 2])\ntorch.Size([128, 2, 2])\ntorch.Size([128, 2, 2])\ntorch.Size([128, 2, 2])\ntorch.Size([128, 2, 2])\ntorch.Size([128, 2, 2])\ntorch.Size([128, 2, 2])\ntorch.Size([128, 2, 2])\ntorch.Size([128, 2, 2])\ntorch.Size([128, 2, 2])\ntorch.Size([128, 2, 2])\ntorch.Size([128, 2, 2])\ntorch.Size([128, 2, 2])\ntorch.Size([128, 2, 2])\ntorch.Size([128, 2, 2])\ntorch.Size([128, 2, 2])\ntorch.Size([128, 2, 2])\ntorch.Size([128, 2, 2])\ntorch.Size([128, 2, 2])\ntorch.Size([128, 2, 2])\ntorch.Size([128, 2, 2])\ntorch.Size([128, 2, 2])\ntorch.Size([128, 2, 2])\ntorch.Size([128, 2, 2])\ntorch.Size([128, 2, 2])\ntorch.Size([128, 2, 2])\ntorch.Size([128, 2, 2])\ntorch.Size([128, 2, 2])\ntorch.Size([128, 2, 2])\ntorch.Size([128, 2, 2])\ntorch.Size([128, 2, 2])\ntorch.Size([128, 2, 2])\ntorch.Size([128, 2, 2])\ntorch.Size([128, 2, 2])\ntorch.Size([128, 2, 2])\ntorch.Size([128, 2, 2])\ntorch.Size([128, 2, 2])\ntorch.Size([128, 2, 2])\ntorch.Size([128, 2, 2])\ntorch.Size([128, 2, 2])\ntorch.Size([128, 2, 2])\ntorch.Size([128, 2, 2])\ntorch.Size([128, 2, 2])\ntorch.Size([128, 2, 2])\ntorch.Size([128, 2, 2])\ntorch.Size([128, 2, 2])\ntorch.Size([128, 2, 2])\ntorch.Size([128, 2, 2])\ntorch.Size([128, 2, 2])\ntorch.Size([128, 2, 2])\ntorch.Size([128, 2, 2])\ntorch.Size([128, 2, 2])\ntorch.Size([128, 2, 2])\ntorch.Size([128, 2, 2])\ntorch.Size([128, 2, 2])\ntorch.Size([128, 2, 2])\ntorch.Size([128, 2, 2])\ntorch.Size([128, 2, 2])\ntorch.Size([128, 2, 2])\ntorch.Size([128, 2, 2])\ntorch.Size([128, 2, 2])\ntorch.Size([128, 2, 2])\ntorch.Size([128, 2, 2])\ntorch.Size([128, 2, 2])\ntorch.Size([128, 2, 2])\ntorch.Size([128, 2, 2])\ntorch.Size([128, 2, 2])\ntorch.Size([128, 2, 2])\ntorch.Size([128, 2, 2])\ntorch.Size([128, 2, 2])\ntorch.Size([128, 2, 2])\ntorch.Size([128, 2, 2])\ntorch.Size([128, 2, 2])\ntorch.Size([128, 2, 2])\ntorch.Size([128, 2, 2])\ntorch.Size([128, 2, 2])\ntorch.Size([128, 2, 2])\ntorch.Size([128, 2, 2])\ntorch.Size([128, 2, 2])\ntorch.Size([128, 2, 2])\ntorch.Size([128, 2, 2])\ntorch.Size([128, 2, 2])\ntorch.Size([128, 2, 2])\ntorch.Size([128, 2, 2])\ntorch.Size([128, 2, 2])\ntorch.Size([128, 2, 2])\ntorch.Size([128, 2, 2])\ntorch.Size([128, 2, 2])\ntorch.Size([128, 2, 2])\ntorch.Size([128, 2, 2])\ntorch.Size([128, 2, 2])\ntorch.Size([128, 2, 2])\ntorch.Size([128, 2, 2])\ntorch.Size([128, 2, 2])\ntorch.Size([128, 2, 2])\ntorch.Size([128, 2, 2])\n 82%|████████▏ | 2040/2494 [00:03<00:00, 685.68it/s]\ntorch.Size([128, 2, 2])\ntorch.Size([128, 2, 2])\ntorch.Size([128, 2, 2])\ntorch.Size([128, 2, 2])\ntorch.Size([128, 2, 2])\ntorch.Size([128, 2, 2])\ntorch.Size([128, 2, 2])\ntorch.Size([128, 2, 2])\ntorch.Size([128, 2, 2])\ntorch.Size([128, 2, 2])\ntorch.Size([128, 2, 2])\ntorch.Size([128, 2, 2])\ntorch.Size([128, 2, 2])\ntorch.Size([128, 2, 2])\ntorch.Size([128, 2, 2])\ntorch.Size([128, 2, 2])\ntorch.Size([128, 2, 2])\ntorch.Size([128, 2, 2])\ntorch.Size([128, 2, 2])\ntorch.Size([128, 2, 2])\ntorch.Size([128, 2, 2])\ntorch.Size([128, 2, 2])\ntorch.Size([128, 2, 2])\ntorch.Size([128, 2, 2])\ntorch.Size([128, 2, 2])\ntorch.Size([128, 2, 2])\ntorch.Size([128, 2, 2])\ntorch.Size([128, 2, 2])\ntorch.Size([128, 2, 2])\ntorch.Size([128, 2, 2])\ntorch.Size([128, 2, 2])\ntorch.Size([128, 2, 2])\ntorch.Size([128, 2, 2])\ntorch.Size([128, 2, 2])\ntorch.Size([128, 2, 2])\ntorch.Size([128, 2, 2])\ntorch.Size([128, 2, 2])\ntorch.Size([128, 2, 2])\ntorch.Size([128, 2, 2])\ntorch.Size([128, 2, 2])\ntorch.Size([128, 2, 2])\ntorch.Size([128, 2, 2])\ntorch.Size([128, 2, 2])\ntorch.Size([128, 2, 2])\ntorch.Size([128, 2, 2])\ntorch.Size([128, 2, 2])\ntorch.Size([128, 2, 2])\ntorch.Size([128, 2, 2])\ntorch.Size([128, 2, 2])\ntorch.Size([128, 2, 2])\ntorch.Size([128, 2, 2])\ntorch.Size([128, 2, 2])\ntorch.Size([128, 2, 2])\ntorch.Size([128, 2, 2])\ntorch.Size([128, 2, 2])\ntorch.Size([128, 2, 2])\ntorch.Size([128, 2, 2])\ntorch.Size([128, 2, 2])\ntorch.Size([128, 2, 2])\ntorch.Size([128, 2, 2])\ntorch.Size([128, 2, 2])\ntorch.Size([128, 2, 2])\ntorch.Size([128, 2, 2])\ntorch.Size([128, 2, 2])\ntorch.Size([128, 2, 2])\ntorch.Size([128, 2, 2])\ntorch.Size([128, 2, 2])\ntorch.Size([128, 2, 2])\ntorch.Size([128, 2, 2])\ntorch.Size([128, 2, 2])\ntorch.Size([128, 2, 2])\ntorch.Size([128, 2, 2])\ntorch.Size([128, 2, 2])\ntorch.Size([128, 2, 2])\ntorch.Size([128, 2, 2])\ntorch.Size([128, 2, 2])\ntorch.Size([128, 2, 2])\ntorch.Size([128, 2, 2])\ntorch.Size([128, 2, 2])\ntorch.Size([128, 2, 2])\ntorch.Size([128, 2, 2])\ntorch.Size([128, 2, 2])\ntorch.Size([128, 2, 2])\ntorch.Size([128, 2, 2])\ntorch.Size([128, 2, 2])\ntorch.Size([128, 2, 2])\ntorch.Size([128, 2, 2])\ntorch.Size([128, 2, 2])\ntorch.Size([128, 2, 2])\ntorch.Size([128, 2, 2])\ntorch.Size([128, 2, 2])\ntorch.Size([128, 2, 2])\ntorch.Size([128, 2, 2])\ntorch.Size([128, 2, 2])\ntorch.Size([128, 2, 2])\ntorch.Size([128, 2, 2])\ntorch.Size([128, 2, 2])\ntorch.Size([128, 2, 2])\ntorch.Size([128, 2, 2])\ntorch.Size([128, 2, 2])\ntorch.Size([128, 2, 2])\ntorch.Size([128, 2, 2])\ntorch.Size([128, 2, 2])\ntorch.Size([128, 2, 2])\ntorch.Size([128, 2, 2])\ntorch.Size([128, 2, 2])\ntorch.Size([128, 2, 2])\ntorch.Size([128, 2, 2])\ntorch.Size([128, 2, 2])\ntorch.Size([128, 2, 2])\ntorch.Size([128, 2, 2])\ntorch.Size([128, 2, 2])\ntorch.Size([128, 2, 2])\ntorch.Size([128, 2, 2])\ntorch.Size([128, 2, 2])\ntorch.Size([128, 2, 2])\ntorch.Size([128, 2, 2])\ntorch.Size([128, 2, 2])\ntorch.Size([128, 2, 2])\ntorch.Size([128, 2, 2])\ntorch.Size([128, 2, 2])\ntorch.Size([128, 2, 2])\ntorch.Size([128, 2, 2])\ntorch.Size([128, 2, 2])\ntorch.Size([128, 2, 2])\ntorch.Size([128, 2, 2])\ntorch.Size([128, 2, 2])\ntorch.Size([128, 2, 2])\ntorch.Size([128, 2, 2])\ntorch.Size([128, 2, 2])\n 88%|████████▊ | 2192/2494 [00:03<00:00, 720.53it/s]\ntorch.Size([128, 2, 2])\ntorch.Size([128, 2, 2])\ntorch.Size([128, 2, 2])\ntorch.Size([128, 2, 2])\ntorch.Size([128, 2, 2])\ntorch.Size([128, 2, 2])\ntorch.Size([128, 2, 2])\ntorch.Size([128, 2, 2])\ntorch.Size([128, 2, 2])\ntorch.Size([128, 2, 2])\ntorch.Size([128, 2, 2])\ntorch.Size([128, 2, 2])\ntorch.Size([128, 2, 2])\ntorch.Size([128, 2, 2])\ntorch.Size([128, 2, 2])\ntorch.Size([128, 2, 2])\ntorch.Size([128, 2, 2])\ntorch.Size([128, 2, 2])\ntorch.Size([128, 2, 2])\ntorch.Size([128, 2, 2])\ntorch.Size([128, 2, 2])\ntorch.Size([128, 2, 2])\ntorch.Size([128, 2, 2])\ntorch.Size([128, 2, 2])\ntorch.Size([128, 2, 2])\ntorch.Size([128, 2, 2])\ntorch.Size([128, 2, 2])\ntorch.Size([128, 2, 2])\ntorch.Size([128, 2, 2])\ntorch.Size([128, 2, 2])\ntorch.Size([128, 2, 2])\ntorch.Size([128, 2, 2])\ntorch.Size([128, 2, 2])\ntorch.Size([128, 2, 2])\ntorch.Size([128, 2, 2])\ntorch.Size([128, 2, 2])\ntorch.Size([128, 2, 2])\ntorch.Size([128, 2, 2])\ntorch.Size([128, 2, 2])\ntorch.Size([128, 2, 2])\ntorch.Size([128, 2, 2])\ntorch.Size([128, 2, 2])\ntorch.Size([128, 2, 2])\ntorch.Size([128, 2, 2])\ntorch.Size([128, 2, 2])\ntorch.Size([128, 2, 2])\ntorch.Size([128, 2, 2])\ntorch.Size([128, 2, 2])\ntorch.Size([128, 2, 2])\ntorch.Size([128, 2, 2])\ntorch.Size([128, 2, 2])\ntorch.Size([128, 2, 2])\ntorch.Size([128, 2, 2])\ntorch.Size([128, 2, 2])\ntorch.Size([128, 2, 2])\ntorch.Size([128, 2, 2])\ntorch.Size([128, 2, 2])\ntorch.Size([128, 2, 2])\ntorch.Size([128, 2, 2])\ntorch.Size([128, 2, 2])\ntorch.Size([128, 2, 2])\ntorch.Size([128, 2, 2])\ntorch.Size([128, 2, 2])\ntorch.Size([128, 2, 2])\ntorch.Size([128, 2, 2])\ntorch.Size([128, 2, 2])\ntorch.Size([128, 2, 2])\ntorch.Size([128, 2, 2])\ntorch.Size([128, 2, 2])\ntorch.Size([128, 2, 2])\ntorch.Size([128, 2, 2])\ntorch.Size([128, 2, 2])\ntorch.Size([128, 2, 2])\ntorch.Size([128, 2, 2])\ntorch.Size([128, 2, 2])\ntorch.Size([128, 2, 2])\ntorch.Size([128, 2, 2])\ntorch.Size([128, 2, 2])\ntorch.Size([128, 2, 2])\ntorch.Size([128, 2, 2])\ntorch.Size([128, 2, 2])\ntorch.Size([128, 2, 2])\ntorch.Size([128, 2, 2])\ntorch.Size([128, 2, 2])\ntorch.Size([128, 2, 2])\ntorch.Size([128, 2, 2])\ntorch.Size([128, 2, 2])\ntorch.Size([128, 2, 2])\ntorch.Size([128, 2, 2])\ntorch.Size([128, 2, 2])\ntorch.Size([128, 2, 2])\ntorch.Size([128, 2, 2])\ntorch.Size([128, 2, 2])\ntorch.Size([128, 2, 2])\ntorch.Size([128, 2, 2])\ntorch.Size([128, 2, 2])\ntorch.Size([128, 2, 2])\ntorch.Size([128, 2, 2])\ntorch.Size([128, 2, 2])\ntorch.Size([128, 2, 2])\ntorch.Size([128, 2, 2])\ntorch.Size([128, 2, 2])\ntorch.Size([128, 2, 2])\ntorch.Size([128, 2, 2])\ntorch.Size([128, 2, 2])\ntorch.Size([128, 2, 2])\ntorch.Size([128, 2, 2])\ntorch.Size([128, 2, 2])\ntorch.Size([128, 2, 2])\ntorch.Size([128, 2, 2])\ntorch.Size([128, 2, 2])\ntorch.Size([128, 2, 2])\ntorch.Size([128, 2, 2])\ntorch.Size([128, 2, 2])\ntorch.Size([128, 2, 2])\ntorch.Size([128, 2, 2])\ntorch.Size([128, 2, 2])\ntorch.Size([128, 2, 2])\ntorch.Size([128, 2, 2])\ntorch.Size([128, 2, 2])\ntorch.Size([128, 2, 2])\ntorch.Size([128, 2, 2])\ntorch.Size([128, 2, 2])\ntorch.Size([128, 2, 2])\ntorch.Size([128, 2, 2])\ntorch.Size([128, 2, 2])\ntorch.Size([128, 2, 2])\ntorch.Size([128, 2, 2])\ntorch.Size([128, 2, 2])\ntorch.Size([128, 2, 2])\ntorch.Size([128, 2, 2])\ntorch.Size([128, 2, 2])\ntorch.Size([128, 2, 2])\ntorch.Size([128, 2, 2])\ntorch.Size([128, 2, 2])\ntorch.Size([128, 2, 2])\ntorch.Size([128, 2, 2])\ntorch.Size([128, 2, 2])\ntorch.Size([128, 2, 2])\ntorch.Size([128, 2, 2])\ntorch.Size([128, 2, 2])\ntorch.Size([128, 2, 2])\ntorch.Size([128, 2, 2])\n 94%|█████████▎| 2337/2494 [00:03<00:00, 700.84it/s]torch.Size([128, 2, 2])\ntorch.Size([128, 2, 2])\ntorch.Size([128, 2, 2])\ntorch.Size([128, 2, 2])\ntorch.Size([128, 2, 2])\ntorch.Size([128, 2, 2])\ntorch.Size([128, 2, 2])\ntorch.Size([128, 2, 2])\ntorch.Size([128, 2, 2])\ntorch.Size([128, 2, 2])\ntorch.Size([128, 2, 2])\ntorch.Size([128, 2, 2])\ntorch.Size([128, 2, 2])\ntorch.Size([128, 2, 2])\ntorch.Size([128, 2, 2])\ntorch.Size([128, 2, 2])\ntorch.Size([128, 2, 2])\ntorch.Size([128, 2, 2])\ntorch.Size([128, 2, 2])\ntorch.Size([128, 2, 2])\ntorch.Size([128, 2, 2])\ntorch.Size([128, 2, 2])\ntorch.Size([128, 2, 2])\ntorch.Size([128, 2, 2])\ntorch.Size([128, 2, 2])\ntorch.Size([128, 2, 2])\ntorch.Size([128, 2, 2])\ntorch.Size([128, 2, 2])\ntorch.Size([128, 2, 2])\ntorch.Size([128, 2, 2])\ntorch.Size([128, 2, 2])\ntorch.Size([128, 2, 2])\ntorch.Size([128, 2, 2])\ntorch.Size([128, 2, 2])\ntorch.Size([128, 2, 2])\ntorch.Size([128, 2, 2])\ntorch.Size([128, 2, 2])\ntorch.Size([128, 2, 2])\ntorch.Size([128, 2, 2])\ntorch.Size([128, 2, 2])\ntorch.Size([128, 2, 2])\ntorch.Size([128, 2, 2])\ntorch.Size([128, 2, 2])\ntorch.Size([128, 2, 2])\ntorch.Size([128, 2, 2])\ntorch.Size([128, 2, 2])\ntorch.Size([128, 2, 2])\ntorch.Size([128, 2, 2])\ntorch.Size([128, 2, 2])\ntorch.Size([128, 2, 2])\ntorch.Size([128, 2, 2])\ntorch.Size([128, 2, 2])\ntorch.Size([128, 2, 2])\ntorch.Size([128, 2, 2])\ntorch.Size([128, 2, 2])\ntorch.Size([128, 2, 2])\ntorch.Size([128, 2, 2])\ntorch.Size([128, 2, 2])\ntorch.Size([128, 2, 2])\ntorch.Size([128, 2, 2])\ntorch.Size([128, 2, 2])\ntorch.Size([128, 2, 2])\ntorch.Size([128, 2, 2])\ntorch.Size([128, 2, 2])\ntorch.Size([128, 2, 2])\ntorch.Size([128, 2, 2])\ntorch.Size([128, 2, 2])\ntorch.Size([128, 2, 2])\ntorch.Size([128, 2, 2])\ntorch.Size([128, 2, 2])\ntorch.Size([128, 2, 2])\ntorch.Size([128, 2, 2])\ntorch.Size([128, 2, 2])\ntorch.Size([128, 2, 2])\ntorch.Size([128, 2, 2])\ntorch.Size([128, 2, 2])\ntorch.Size([128, 2, 2])\ntorch.Size([128, 2, 2])\ntorch.Size([128, 2, 2])\ntorch.Size([128, 2, 2])\ntorch.Size([128, 2, 2])\ntorch.Size([128, 2, 2])\ntorch.Size([128, 2, 2])\ntorch.Size([128, 2, 2])\ntorch.Size([128, 2, 2])\ntorch.Size([128, 2, 2])\ntorch.Size([128, 2, 2])\ntorch.Size([128, 2, 2])\ntorch.Size([128, 2, 2])\ntorch.Size([128, 2, 2])\ntorch.Size([128, 2, 2])\ntorch.Size([128, 2, 2])\ntorch.Size([128, 2, 2])\ntorch.Size([128, 2, 2])\ntorch.Size([128, 2, 2])\ntorch.Size([128, 2, 2])\ntorch.Size([128, 2, 2])\ntorch.Size([128, 2, 2])\ntorch.Size([128, 2, 2])\ntorch.Size([128, 2, 2])\ntorch.Size([128, 2, 2])\ntorch.Size([128, 2, 2])\ntorch.Size([128, 2, 2])\ntorch.Size([128, 2, 2])\ntorch.Size([128, 2, 2])\ntorch.Size([128, 2, 2])\ntorch.Size([128, 2, 2])\ntorch.Size([128, 2, 2])\ntorch.Size([128, 2, 2])\ntorch.Size([128, 2, 2])\ntorch.Size([128, 2, 2])\ntorch.Size([128, 2, 2])\ntorch.Size([128, 2, 2])\ntorch.Size([128, 2, 2])\ntorch.Size([128, 2, 2])\ntorch.Size([128, 2, 2])\ntorch.Size([128, 2, 2])\ntorch.Size([128, 2, 2])\ntorch.Size([128, 2, 2])\ntorch.Size([128, 2, 2])\ntorch.Size([128, 2, 2])\ntorch.Size([128, 2, 2])\ntorch.Size([128, 2, 2])\ntorch.Size([128, 2, 2])\ntorch.Size([128, 2, 2])\n 97%|█████████▋| 2408/2494 [00:03<00:00, 683.83it/s]\ntorch.Size([128, 2, 2])\ntorch.Size([128, 2, 2])\ntorch.Size([128, 2, 2])\ntorch.Size([128, 2, 2])\ntorch.Size([128, 2, 2])\ntorch.Size([128, 2, 2])\ntorch.Size([128, 2, 2])\ntorch.Size([128, 2, 2])\ntorch.Size([128, 2, 2])\ntorch.Size([128, 2, 2])\ntorch.Size([128, 2, 2])\ntorch.Size([128, 2, 2])\ntorch.Size([128, 2, 2])\ntorch.Size([128, 2, 2])\ntorch.Size([128, 2, 2])\ntorch.Size([128, 2, 2])\ntorch.Size([128, 2, 2])\ntorch.Size([128, 2, 2])\ntorch.Size([128, 2, 2])\ntorch.Size([128, 2, 2])\ntorch.Size([128, 2, 2])\ntorch.Size([128, 2, 2])\ntorch.Size([128, 2, 2])\ntorch.Size([128, 2, 2])\ntorch.Size([128, 2, 2])\ntorch.Size([128, 2, 2])\ntorch.Size([128, 2, 2])\ntorch.Size([128, 2, 2])\ntorch.Size([128, 2, 2])\ntorch.Size([128, 2, 2])\ntorch.Size([128, 2, 2])\ntorch.Size([128, 2, 2])\ntorch.Size([128, 2, 2])\ntorch.Size([128, 2, 2])\ntorch.Size([128, 2, 2])\ntorch.Size([128, 2, 2])\ntorch.Size([128, 2, 2])\ntorch.Size([128, 2, 2])\ntorch.Size([128, 2, 2])\ntorch.Size([128, 2, 2])\ntorch.Size([128, 2, 2])\ntorch.Size([128, 2, 2])\ntorch.Size([128, 2, 2])\ntorch.Size([128, 2, 2])\ntorch.Size([128, 2, 2])\ntorch.Size([128, 2, 2])\ntorch.Size([128, 2, 2])\ntorch.Size([128, 2, 2])\ntorch.Size([128, 2, 2])\ntorch.Size([128, 2, 2])\ntorch.Size([128, 2, 2])\ntorch.Size([128, 2, 2])\ntorch.Size([128, 2, 2])\ntorch.Size([128, 2, 2])\ntorch.Size([128, 2, 2])\ntorch.Size([128, 2, 2])\ntorch.Size([128, 2, 2])\ntorch.Size([128, 2, 2])\ntorch.Size([128, 2, 2])\ntorch.Size([128, 2, 2])\ntorch.Size([128, 2, 2])\ntorch.Size([128, 2, 2])\ntorch.Size([128, 2, 2])\ntorch.Size([128, 2, 2])\ntorch.Size([128, 2, 2])\ntorch.Size([128, 2, 2])\ntorch.Size([128, 2, 2])\ntorch.Size([128, 2, 2])\ntorch.Size([128, 2, 2])\ntorch.Size([128, 2, 2])\ntorch.Size([128, 2, 2])\ntorch.Size([128, 2, 2])\ntorch.Size([128, 2, 2])\ntorch.Size([128, 2, 2])\ntorch.Size([128, 2, 2])\ntorch.Size([128, 2, 2])\ntorch.Size([128, 2, 2])\ntorch.Size([128, 2, 2])\ntorch.Size([128, 2, 2])\ntorch.Size([128, 2, 2])\ntorch.Size([128, 2, 2])\ntorch.Size([128, 2, 2])\ntorch.Size([128, 2, 2])\ntorch.Size([128, 2, 2])\ntorch.Size([128, 2, 2])\ntorch.Size([128, 2, 2])\ntorch.Size([128, 2, 2])\ntorch.Size([128, 2, 2])\ntorch.Size([128, 2, 2])\ntorch.Size([128, 2, 2])\ntorch.Size([128, 2, 2])\ntorch.Size([128, 2, 2])\ntorch.Size([128, 2, 2])\ntorch.Size([128, 2, 2])\ntorch.Size([128, 2, 2])\ntorch.Size([128, 2, 2])\ntorch.Size([128, 2, 2])\ntorch.Size([128, 2, 2])\ntorch.Size([128, 2, 2])\ntorch.Size([128, 2, 2])\ntorch.Size([128, 2, 2])\ntorch.Size([128, 2, 2])\ntorch.Size([128, 2, 2])\ntorch.Size([128, 2, 2])\ntorch.Size([128, 2, 2])\ntorch.Size([128, 2, 2])\n100%|██████████| 2494/2494 [00:03<00:00, 658.99it/s]\ntorch.Size([128, 2, 2])\ntorch.Size([128, 2, 2])\ntorch.Size([128, 2, 2])\ntorch.Size([128, 2, 2])\ntorch.Size([128, 2, 2])\ntorch.Size([128, 2, 2])\ntorch.Size([128, 2, 2])\ntorch.Size([128, 2, 2])\ntorch.Size([128, 2, 2])\ntorch.Size([128, 2, 2])\ntorch.Size([128, 2, 2])\ntorch.Size([128, 2, 2])\ntorch.Size([128, 2, 2])\ntorch.Size([128, 2, 2])\ntorch.Size([128, 2, 2])\ntorch.Size([128, 2, 2])\ntorch.Size([128, 2, 2])\ntorch.Size([128, 2, 2])\ntorch.Size([128, 2, 2])\ntorch.Size([128, 2, 2])\ntorch.Size([128, 2, 2])\ntorch.Size([128, 2, 2])\ntorch.Size([128, 2, 2])\nAccuracy: 0.642\n\n"
    }
   ],
   "source": [
    "correct = 0\n",
    "total = 0\n",
    "with torch.no_grad():\n",
    "    for i in tqdm(range(len(test_X))):\n",
    "        real_class = torch.argmax(test_y[i])\n",
    "        net_out = net(test_X[i].view(-1,1,50,50))[0]\n",
    "        \n",
    "        predicted_class = torch.argmax(net_out)\n",
    "        if predicted_class == real_class:\n",
    "            correct += 1\n",
    "        total += 1\n",
    "print(\"Accuracy:\", round(correct/total, 3))"
   ]
  },
  {
   "cell_type": "code",
   "execution_count": null,
   "metadata": {},
   "outputs": [],
   "source": []
  }
 ],
 "metadata": {
  "language_info": {
   "codemirror_mode": {
    "name": "ipython",
    "version": 3
   },
   "file_extension": ".py",
   "mimetype": "text/x-python",
   "name": "python",
   "nbconvert_exporter": "python",
   "pygments_lexer": "ipython3",
   "version": "3.8.3-final"
  },
  "orig_nbformat": 2,
  "kernelspec": {
   "name": "python38364bitenvvenvca00155543ce43539cf942774b6035bd",
   "display_name": "Python 3.8.3 64-bit ('env': venv)"
  }
 },
 "nbformat": 4,
 "nbformat_minor": 2
}